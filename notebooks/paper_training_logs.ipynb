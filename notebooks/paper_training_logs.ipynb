{
 "cells": [
  {
   "cell_type": "code",
   "execution_count": null,
   "metadata": {},
   "outputs": [],
   "source": [
    "%load_ext autoreload\n",
    "%autoreload 2\n",
    "from cosypose.utils.logs_bokeh import Plotter\n",
    "from pathlib import Path\n",
    "from cosypose.config import LOCAL_DATA_DIR\n",
    "log_dir = Path(LOCAL_DATA_DIR / 'experiments')\n",
    "assert log_dir.exists()"
   ]
  },
  {
   "cell_type": "code",
   "execution_count": null,
   "metadata": {},
   "outputs": [],
   "source": [
    "# T-LESS\n",
    "run_ids = [\n",
    "    'tless-coarse--10219',\n",
    "    'tless-refiner--585928',\n",
    "] \n",
    "plotter = Plotter(log_dir)\n",
    "plotter.load_logs(run_ids)\n",
    "\n",
    "plotter.plot_train_fields(['train_loss_TCO', 'val_loss_TCO'], semilogy=True, title='TCO')\n",
    "\n",
    "plotter.plot_eval_field('pix2pose_detections/coarse/iteration=1/ADD-S/0.1d',\n",
    "                        title='ADD-S/0.1d', y_range=[0.0, 0.9], new_row=True)\n",
    "\n",
    "plotter.plot_eval_field('pix2pose_coarse/refiner/iteration=1/ADD-S/0.1d', datasets='auto',  \n",
    "                        title='ADD-S/0.1d', y_range=[0.0, 0.9], new_row=False)\n",
    "\n",
    "\n",
    "plotter.plot_train_fields(['grad_norm', ], semilogy=True, title='grad', new_row=True)\n",
    "\n",
    "plotter.plot_train_fields(['learning_rate'], semilogy=False, title='lr', new_row=True)\n",
    "plotter.plot_train_fields(['time_forward', 'time_backward', 'time_data'], title='time')\n",
    "\n",
    "plotter.show_configs()\n",
    "plotter.show()"
   ]
  },
  {
   "cell_type": "code",
   "execution_count": null,
   "metadata": {},
   "outputs": [],
   "source": [
    "# YCB-Video\n",
    "run_ids = [\n",
    "    'ycbv-refiner-syntonly--596719',\n",
    "    'ycbv-refiner-finetune--251020',\n",
    "] \n",
    "plotter = Plotter(log_dir)\n",
    "plotter.load_logs(run_ids)\n",
    "\n",
    "plotter.plot_train_fields(['train_loss_TCO', 'val_loss_TCO'], semilogy=True, title='TCO')\n",
    "\n",
    "plotter.plot_eval_field('posecnn_coarse/refiner/iteration=1/ADD(-S)/AUC/objects/mean',\n",
    "                        title='ADD(-S)/AUC', y_range=[0.6, 0.9], new_row=True)\n",
    "\n",
    "plotter.plot_eval_field('posecnn_coarse/refiner/iteration=1/ADD(-S)/AUC/objects/mean',\n",
    "                        datasets='auto', title='ADD(-S)/AUC', y_range=[0.6, 0.9], new_row=False)\n",
    "\n",
    "\n",
    "plotter.plot_train_fields(['grad_norm', ], semilogy=True, title='grad', new_row=True)\n",
    "\n",
    "plotter.plot_train_fields(['learning_rate'], semilogy=False, title='lr', new_row=True)\n",
    "plotter.plot_train_fields(['time_forward', 'time_backward', 'time_data'], title='time')\n",
    "\n",
    "plotter.show_configs()\n",
    "plotter.show()"
   ]
  }
 ],
 "metadata": {
  "kernelspec": {
   "display_name": "robotics",
   "language": "python",
   "name": "robotics"
  },
  "language_info": {
   "codemirror_mode": {
    "name": "ipython",
    "version": 3
   },
   "file_extension": ".py",
   "mimetype": "text/x-python",
   "name": "python",
   "nbconvert_exporter": "python",
   "pygments_lexer": "ipython3",
   "version": "3.7.6"
  }
 },
 "nbformat": 4,
 "nbformat_minor": 4
}
